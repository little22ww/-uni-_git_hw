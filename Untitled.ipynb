{
  "nbformat": 4,
  "nbformat_minor": 0,
  "metadata": {
    "colab": {
      "name": "Untitled",
      "provenance": [],
      "collapsed_sections": [],
      "include_colab_link": true
    },
    "kernelspec": {
      "name": "python3",
      "display_name": "Python 3"
    },
    "language_info": {
      "name": "python"
    }
  },
  "cells": [
    {
      "cell_type": "markdown",
      "metadata": {
        "id": "view-in-github",
        "colab_type": "text"
      },
      "source": [
        "<a href=\"https://colab.research.google.com/github/little22ww/-uni-_git_hw/blob/main/Untitled.ipynb\" target=\"_parent\"><img src=\"https://colab.research.google.com/assets/colab-badge.svg\" alt=\"Open In Colab\"/></a>"
      ]
    },
    {
      "cell_type": "code",
      "metadata": {
        "colab": {
          "base_uri": "https://localhost:8080/"
        },
        "id": "Y9aY3EUEMSwc",
        "outputId": "1a477fad-a332-459b-c15d-0c8f546b016e"
      },
      "source": [
        "\n",
        "%%bash\n",
        "\n",
        "# install required system dependencies\n",
        "apt-get install -y xvfb x11-utils\n",
        "\n",
        "# install required python dependencies (might need to install additional gym extras depending)\n",
        "pip install gym[box2d]==0.17.* pyvirtualdisplay==0.2.* PyOpenGL==3.1.* PyOpenGL-accelerate==3.1.*"
      ],
      "execution_count": null,
      "outputs": [
        {
          "output_type": "stream",
          "name": "stdout",
          "text": [
            "Reading package lists...\n",
            "Building dependency tree...\n",
            "Reading state information...\n",
            "The following additional packages will be installed:\n",
            "  libxxf86dga1\n",
            "Suggested packages:\n",
            "  mesa-utils\n",
            "The following NEW packages will be installed:\n",
            "  libxxf86dga1 x11-utils xvfb\n",
            "0 upgraded, 3 newly installed, 0 to remove and 37 not upgraded.\n",
            "Need to get 994 kB of archives.\n",
            "After this operation, 2,981 kB of additional disk space will be used.\n",
            "Get:1 http://archive.ubuntu.com/ubuntu bionic/main amd64 libxxf86dga1 amd64 2:1.1.4-1 [13.7 kB]\n",
            "Get:2 http://archive.ubuntu.com/ubuntu bionic/main amd64 x11-utils amd64 7.7+3build1 [196 kB]\n",
            "Get:3 http://archive.ubuntu.com/ubuntu bionic-updates/universe amd64 xvfb amd64 2:1.19.6-1ubuntu4.9 [784 kB]\n",
            "Fetched 994 kB in 1s (1,260 kB/s)\n",
            "Selecting previously unselected package libxxf86dga1:amd64.\r\n",
            "(Reading database ... \r(Reading database ... 5%\r(Reading database ... 10%\r(Reading database ... 15%\r(Reading database ... 20%\r(Reading database ... 25%\r(Reading database ... 30%\r(Reading database ... 35%\r(Reading database ... 40%\r(Reading database ... 45%\r(Reading database ... 50%\r(Reading database ... 55%\r(Reading database ... 60%\r(Reading database ... 65%\r(Reading database ... 70%\r(Reading database ... 75%\r(Reading database ... 80%\r(Reading database ... 85%\r(Reading database ... 90%\r(Reading database ... 95%\r(Reading database ... 100%\r(Reading database ... 155222 files and directories currently installed.)\r\n",
            "Preparing to unpack .../libxxf86dga1_2%3a1.1.4-1_amd64.deb ...\r\n",
            "Unpacking libxxf86dga1:amd64 (2:1.1.4-1) ...\r\n",
            "Selecting previously unselected package x11-utils.\r\n",
            "Preparing to unpack .../x11-utils_7.7+3build1_amd64.deb ...\r\n",
            "Unpacking x11-utils (7.7+3build1) ...\r\n",
            "Selecting previously unselected package xvfb.\r\n",
            "Preparing to unpack .../xvfb_2%3a1.19.6-1ubuntu4.9_amd64.deb ...\r\n",
            "Unpacking xvfb (2:1.19.6-1ubuntu4.9) ...\r\n",
            "Setting up xvfb (2:1.19.6-1ubuntu4.9) ...\r\n",
            "Setting up libxxf86dga1:amd64 (2:1.1.4-1) ...\r\n",
            "Setting up x11-utils (7.7+3build1) ...\r\n",
            "Processing triggers for man-db (2.8.3-2ubuntu0.1) ...\r\n",
            "Processing triggers for libc-bin (2.27-3ubuntu1.3) ...\r\n",
            "/sbin/ldconfig.real: /usr/local/lib/python3.7/dist-packages/ideep4py/lib/libmkldnn.so.0 is not a symbolic link\r\n",
            "\r\n",
            "Requirement already satisfied: gym[box2d]==0.17.* in /usr/local/lib/python3.7/dist-packages (0.17.3)\n",
            "Collecting pyvirtualdisplay==0.2.*\n",
            "  Downloading PyVirtualDisplay-0.2.5-py2.py3-none-any.whl (13 kB)\n",
            "Requirement already satisfied: PyOpenGL==3.1.* in /usr/local/lib/python3.7/dist-packages (3.1.5)\n",
            "Collecting PyOpenGL-accelerate==3.1.*\n",
            "  Downloading PyOpenGL-accelerate-3.1.5.tar.gz (538 kB)\n",
            "Collecting EasyProcess\n",
            "  Downloading EasyProcess-0.3-py2.py3-none-any.whl (7.9 kB)\n",
            "Requirement already satisfied: scipy in /usr/local/lib/python3.7/dist-packages (from gym[box2d]==0.17.*) (1.4.1)\n",
            "Requirement already satisfied: pyglet<=1.5.0,>=1.4.0 in /usr/local/lib/python3.7/dist-packages (from gym[box2d]==0.17.*) (1.5.0)\n",
            "Requirement already satisfied: cloudpickle<1.7.0,>=1.2.0 in /usr/local/lib/python3.7/dist-packages (from gym[box2d]==0.17.*) (1.3.0)\n",
            "Requirement already satisfied: numpy>=1.10.4 in /usr/local/lib/python3.7/dist-packages (from gym[box2d]==0.17.*) (1.19.5)\n",
            "Collecting box2d-py~=2.3.5\n",
            "  Downloading box2d_py-2.3.8-cp37-cp37m-manylinux1_x86_64.whl (448 kB)\n",
            "Requirement already satisfied: future in /usr/local/lib/python3.7/dist-packages (from pyglet<=1.5.0,>=1.4.0->gym[box2d]==0.17.*) (0.16.0)\n",
            "Building wheels for collected packages: PyOpenGL-accelerate\n",
            "  Building wheel for PyOpenGL-accelerate (setup.py): started\n",
            "  Building wheel for PyOpenGL-accelerate (setup.py): finished with status 'done'\n",
            "  Created wheel for PyOpenGL-accelerate: filename=PyOpenGL_accelerate-3.1.5-cp37-cp37m-linux_x86_64.whl size=1599512 sha256=979d0af05b61040447eaa6dca9d37316a30e2db123876e2d3df151684e39c85c\n",
            "  Stored in directory: /root/.cache/pip/wheels/1c/f5/6f/169afb3f2d476c5e807f8515b3c9bc9b819c3962316aa804eb\n",
            "Successfully built PyOpenGL-accelerate\n",
            "Installing collected packages: EasyProcess, box2d-py, pyvirtualdisplay, PyOpenGL-accelerate\n",
            "Successfully installed EasyProcess-0.3 PyOpenGL-accelerate-3.1.5 box2d-py-2.3.8 pyvirtualdisplay-0.2.5\n"
          ]
        }
      ]
    },
    {
      "cell_type": "code",
      "metadata": {
        "colab": {
          "base_uri": "https://localhost:8080/"
        },
        "id": "iRNPuVdcJqRe",
        "outputId": "c1e66642-b5d1-4ba8-d618-be441420dae5"
      },
      "source": [
        "pip install nevergrad"
      ],
      "execution_count": null,
      "outputs": [
        {
          "output_type": "stream",
          "name": "stdout",
          "text": [
            "Collecting nevergrad\n",
            "  Downloading nevergrad-0.4.3.post9-py3-none-any.whl (411 kB)\n",
            "\u001b[?25l\r\u001b[K     |▉                               | 10 kB 22.4 MB/s eta 0:00:01\r\u001b[K     |█▋                              | 20 kB 10.1 MB/s eta 0:00:01\r\u001b[K     |██▍                             | 30 kB 13.0 MB/s eta 0:00:01\r\u001b[K     |███▏                            | 40 kB 9.5 MB/s eta 0:00:01\r\u001b[K     |████                            | 51 kB 5.0 MB/s eta 0:00:01\r\u001b[K     |████▉                           | 61 kB 5.2 MB/s eta 0:00:01\r\u001b[K     |█████▋                          | 71 kB 5.7 MB/s eta 0:00:01\r\u001b[K     |██████▍                         | 81 kB 6.3 MB/s eta 0:00:01\r\u001b[K     |███████▏                        | 92 kB 4.7 MB/s eta 0:00:01\r\u001b[K     |████████                        | 102 kB 5.1 MB/s eta 0:00:01\r\u001b[K     |████████▊                       | 112 kB 5.1 MB/s eta 0:00:01\r\u001b[K     |█████████▋                      | 122 kB 5.1 MB/s eta 0:00:01\r\u001b[K     |██████████▍                     | 133 kB 5.1 MB/s eta 0:00:01\r\u001b[K     |███████████▏                    | 143 kB 5.1 MB/s eta 0:00:01\r\u001b[K     |████████████                    | 153 kB 5.1 MB/s eta 0:00:01\r\u001b[K     |████████████▊                   | 163 kB 5.1 MB/s eta 0:00:01\r\u001b[K     |█████████████▌                  | 174 kB 5.1 MB/s eta 0:00:01\r\u001b[K     |██████████████▍                 | 184 kB 5.1 MB/s eta 0:00:01\r\u001b[K     |███████████████▏                | 194 kB 5.1 MB/s eta 0:00:01\r\u001b[K     |████████████████                | 204 kB 5.1 MB/s eta 0:00:01\r\u001b[K     |████████████████▊               | 215 kB 5.1 MB/s eta 0:00:01\r\u001b[K     |█████████████████▌              | 225 kB 5.1 MB/s eta 0:00:01\r\u001b[K     |██████████████████▎             | 235 kB 5.1 MB/s eta 0:00:01\r\u001b[K     |███████████████████▏            | 245 kB 5.1 MB/s eta 0:00:01\r\u001b[K     |████████████████████            | 256 kB 5.1 MB/s eta 0:00:01\r\u001b[K     |████████████████████▊           | 266 kB 5.1 MB/s eta 0:00:01\r\u001b[K     |█████████████████████▌          | 276 kB 5.1 MB/s eta 0:00:01\r\u001b[K     |██████████████████████▎         | 286 kB 5.1 MB/s eta 0:00:01\r\u001b[K     |███████████████████████         | 296 kB 5.1 MB/s eta 0:00:01\r\u001b[K     |████████████████████████        | 307 kB 5.1 MB/s eta 0:00:01\r\u001b[K     |████████████████████████▊       | 317 kB 5.1 MB/s eta 0:00:01\r\u001b[K     |█████████████████████████▌      | 327 kB 5.1 MB/s eta 0:00:01\r\u001b[K     |██████████████████████████▎     | 337 kB 5.1 MB/s eta 0:00:01\r\u001b[K     |███████████████████████████     | 348 kB 5.1 MB/s eta 0:00:01\r\u001b[K     |███████████████████████████▉    | 358 kB 5.1 MB/s eta 0:00:01\r\u001b[K     |████████████████████████████▊   | 368 kB 5.1 MB/s eta 0:00:01\r\u001b[K     |█████████████████████████████▌  | 378 kB 5.1 MB/s eta 0:00:01\r\u001b[K     |██████████████████████████████▎ | 389 kB 5.1 MB/s eta 0:00:01\r\u001b[K     |███████████████████████████████ | 399 kB 5.1 MB/s eta 0:00:01\r\u001b[K     |███████████████████████████████▉| 409 kB 5.1 MB/s eta 0:00:01\r\u001b[K     |████████████████████████████████| 411 kB 5.1 MB/s \n",
            "\u001b[?25hCollecting cma>=2.6.0\n",
            "  Downloading cma-3.1.0-py2.py3-none-any.whl (269 kB)\n",
            "\u001b[K     |████████████████████████████████| 269 kB 48.6 MB/s \n",
            "\u001b[?25hRequirement already satisfied: numpy>=1.15.0 in /usr/local/lib/python3.7/dist-packages (from nevergrad) (1.19.5)\n",
            "Requirement already satisfied: typing-extensions>=3.6.6 in /usr/local/lib/python3.7/dist-packages (from nevergrad) (3.10.0.2)\n",
            "Collecting bayesian-optimization>=1.2.0\n",
            "  Downloading bayesian-optimization-1.2.0.tar.gz (14 kB)\n",
            "Requirement already satisfied: scipy>=0.14.0 in /usr/local/lib/python3.7/dist-packages (from bayesian-optimization>=1.2.0->nevergrad) (1.4.1)\n",
            "Requirement already satisfied: scikit-learn>=0.18.0 in /usr/local/lib/python3.7/dist-packages (from bayesian-optimization>=1.2.0->nevergrad) (1.0.1)\n",
            "Requirement already satisfied: joblib>=0.11 in /usr/local/lib/python3.7/dist-packages (from scikit-learn>=0.18.0->bayesian-optimization>=1.2.0->nevergrad) (1.1.0)\n",
            "Requirement already satisfied: threadpoolctl>=2.0.0 in /usr/local/lib/python3.7/dist-packages (from scikit-learn>=0.18.0->bayesian-optimization>=1.2.0->nevergrad) (3.0.0)\n",
            "Building wheels for collected packages: bayesian-optimization\n",
            "  Building wheel for bayesian-optimization (setup.py) ... \u001b[?25l\u001b[?25hdone\n",
            "  Created wheel for bayesian-optimization: filename=bayesian_optimization-1.2.0-py3-none-any.whl size=11685 sha256=e75ac9a6c6a8d4d316bab7c342f4585c77bb0c8dc6e0ee834a1416ffd37aac60\n",
            "  Stored in directory: /root/.cache/pip/wheels/fd/9b/71/f127d694e02eb40bcf18c7ae9613b88a6be4470f57a8528c5b\n",
            "Successfully built bayesian-optimization\n",
            "Installing collected packages: cma, bayesian-optimization, nevergrad\n",
            "Successfully installed bayesian-optimization-1.2.0 cma-3.1.0 nevergrad-0.4.3.post9\n"
          ]
        }
      ]
    },
    {
      "cell_type": "code",
      "metadata": {
        "id": "0FVyf9u5M212"
      },
      "source": [
        "import pyvirtualdisplay\n",
        "\n",
        "\n",
        "_display = pyvirtualdisplay.Display(visible=False,  # use False with Xvfb\n",
        "                                    size=(1400, 900))\n",
        "_ = _display.start()"
      ],
      "execution_count": null,
      "outputs": []
    },
    {
      "cell_type": "code",
      "metadata": {
        "id": "-cajTmtdyzoh"
      },
      "source": [
        "import gym\n",
        "import numpy as np\n",
        "import nevergrad as ng\n",
        "import cv2\n",
        "from scipy.optimize import minimize\n",
        "import scipy\n",
        "import scipy.stats as st\n",
        "from scipy.linalg import *\n",
        "\n",
        "import matplotlib.pyplot as plt \n",
        "from matplotlib import animation \n",
        "import imageio\n",
        "\n",
        "from sklearn.linear_model import Ridge\n",
        "from sklearn.linear_model import Lasso\n",
        "from sklearn.preprocessing import StandardScaler"
      ],
      "execution_count": null,
      "outputs": []
    },
    {
      "cell_type": "code",
      "source": [
        "N = 200\n",
        "n = 200\n",
        "sigma = 1"
      ],
      "metadata": {
        "id": "ArwUiGbcRHWO"
      },
      "execution_count": null,
      "outputs": []
    },
    {
      "cell_type": "code",
      "source": [
        "#noise functions,n:dimension, N:sample size \n",
        "\n",
        "#independent gaussian\n",
        "def independent_gau(n,N,sigma = 1):\n",
        "    res = np.empty((N,n))\n",
        "    for i in range(N):\n",
        "        res[i,:] = np.random.multivariate_normal(mean = np.zeros(n), cov = sigma*np.eye(n)) \n",
        "    return res\n",
        "\n",
        "#orthogonal gaussian\n",
        "def orth_gau(n,N,sigma = 1):\n",
        "    res = independent_gau(n,N,sigma)\n",
        "    ort = orth(res.T)\n",
        "    leng = np.linalg.norm(ort, axis=1, keepdims=True)\n",
        "    return ort/leng"
      ],
      "metadata": {
        "id": "jtUj0rIvRehe"
      },
      "execution_count": null,
      "outputs": []
    },
    {
      "cell_type": "code",
      "source": [
        ""
      ],
      "metadata": {
        "id": "ibUr7JAJx6Ha"
      },
      "execution_count": null,
      "outputs": []
    },
    {
      "cell_type": "code",
      "metadata": {
        "id": "GZLTr_WFy2mP"
      },
      "source": [
        "#original function\n",
        "def fun(a_list):\n",
        "    env = gym.make('CartPole-v0')\n",
        "    total_reward = 0.0\n",
        "    total_steps = 0\n",
        "    obs = env.reset()\n",
        "   \n",
        "    for a in a_list:\n",
        "        a = 0 if a<=0.5 else 1\n",
        "        obs, reward, done, _ = env.step(a) # take a random action\n",
        "        total_reward += reward\n",
        "        total_steps += 1\n",
        "        if done:\n",
        "            break\n",
        "    #print(\"Episode done in %d steps, total reward %.2f\" % (total_steps, total_reward))\n",
        "    return -total_reward\n",
        "\n",
        "#gaussian smoothing\n",
        "def gau_smo(a_list):\n",
        "    reward_list = np.zeros(N)\n",
        "    n = len(a_list)\n",
        "    \n",
        "    #generate noise with different methods\n",
        "    noise = independent_gau(n,N)\n",
        "    #noise = orth_gau(n,N)\n",
        "    \n",
        "    for i in range(N):\n",
        "        curr_noise = noise[i,:]\n",
        "        reward_list[i] = fun(a_list+curr_noise)\n",
        "    return reward_list.mean()"
      ],
      "execution_count": null,
      "outputs": []
    },
    {
      "cell_type": "code",
      "source": [
        "# monte carlo based gradient\n",
        "def vanilla(a_list):\n",
        "    n = len(a_list)\n",
        "    grad = np.zeros(n)\n",
        "    \n",
        "    #generate noise with different methods\n",
        "    noise = independent_gau(n,N)\n",
        "    #noise = orth_gau(n,N)\n",
        "    \n",
        "    for i in range(N):\n",
        "        curr_noise = noise[i,:]       \n",
        "        theta = a_list+sigma*curr_noise\n",
        "        F = fun(theta)\n",
        "        grad+=F*curr_noise\n",
        "    grad = grad/(N*sigma)\n",
        "    return grad\n",
        "\n",
        "def antithetic(a_list):\n",
        "    n = len(a_list)\n",
        "    grad = np.zeros(n)\n",
        "    \n",
        "    #generate noise with different methods\n",
        "    noise = independent_gau(n,N)\n",
        "    #noise = orth_gau(n,N)\n",
        "    \n",
        "    for i in range(N):\n",
        "        curr_noise = noise[i,:]             \n",
        "        theta1 = a_list+sigma*curr_noise\n",
        "        theta2 = a_list-sigma*curr_noise\n",
        "        F1,F2 = fun(theta1),fun(theta2)\n",
        "        grad+=(F1-F2)*curr_noise\n",
        "    grad = grad/(2*N*sigma)\n",
        "    return grad\n",
        "\n",
        "def FD(a_list):\n",
        "    n = len(a_list)\n",
        "    grad = np.zeros(n)\n",
        "    F = fun(a_list)\n",
        "\n",
        "    #generate noise with different methods\n",
        "    #noise = independent_gau(n,N)\n",
        "    noise = orth_gau(n,N)\n",
        "    \n",
        "    for i in range(N):\n",
        "        curr_noise = noise[i,:]              \n",
        "        theta = a_list+sigma*curr_noise\n",
        "        F1 = fun(theta)\n",
        "        grad+=(F1-F)*curr_noise\n",
        "    grad = grad/(N*sigma)\n",
        "    return grad"
      ],
      "metadata": {
        "id": "OK5dAYxsRRsS"
      },
      "execution_count": null,
      "outputs": []
    },
    {
      "cell_type": "code",
      "source": [
        "#regression based gradient\n",
        "def lasso_gra(a_list):\n",
        "    F = fun(a_list)\n",
        "    y = np.zeros(N)\n",
        "    #generate noise with different methods\n",
        "    noise = independent_gau(n,N)\n",
        "    #noise = orth_gau(n,N)\n",
        "    for i in range(N):\n",
        "        y[i] = fun(a_list+noise[i,:])-F\n",
        "    \n",
        "    SSmodel=StandardScaler()\n",
        "    SSmodel.fit(noise)\n",
        "    Train_x=SSmodel.transform(noise)\n",
        "    model = Lasso(fit_intercept = False)\n",
        "    model.fit(Train_x,y)\n",
        "    return model.coef_/np.std(noise,axis = 0)\n",
        "\n",
        "def ridge_gra(a_list):\n",
        "    F = fun(a_list)\n",
        "    y = np.zeros(N)\n",
        "    #generate noise with different methods\n",
        "    noise = independent_gau(n,N)\n",
        "    #noise = orth_gau(n,N)\n",
        "    for i in range(N):\n",
        "        y[i] = fun(a_list+noise[i,:])-F\n",
        "    \n",
        "    SSmodel=StandardScaler()\n",
        "    SSmodel.fit(noise)\n",
        "    Train_x=SSmodel.transform(noise)\n",
        "    model = Ridge(fit_intercept = False)\n",
        "    model.fit(Train_x,y)\n",
        "    return model.coef_/np.std(noise,axis = 0)"
      ],
      "metadata": {
        "id": "LOvVoWqjRXoX"
      },
      "execution_count": null,
      "outputs": []
    },
    {
      "cell_type": "code",
      "metadata": {
        "colab": {
          "base_uri": "https://localhost:8080/"
        },
        "id": "sHvKPyvYfL2k",
        "outputId": "1cc678f1-2277-4928-c11b-6876fa3abeca"
      },
      "source": [
        "#optimization part, conjugate gradient method\n",
        "bound = [[0,1]]*n\n",
        "initial = np.random.rand(n)\n",
        "opt = scipy.optimize.minimize(fun,initial,bounds =bound,method = 'CG',jac = lasso_gra,tol = 0.01,options = {'disp' : True} )"
      ],
      "execution_count": null,
      "outputs": [
        {
          "output_type": "stream",
          "name": "stderr",
          "text": [
            "/usr/local/lib/python3.7/dist-packages/scipy/optimize/_minimize.py:522: RuntimeWarning: Method CG cannot handle constraints nor bounds.\n",
            "  RuntimeWarning)\n"
          ]
        },
        {
          "output_type": "stream",
          "name": "stdout",
          "text": [
            "Warning: Desired error not necessarily achieved due to precision loss.\n",
            "         Current function value: -82.000000\n",
            "         Iterations: 2\n",
            "         Function evaluations: 21\n",
            "         Gradient evaluations: 9\n"
          ]
        }
      ]
    },
    {
      "cell_type": "code",
      "metadata": {
        "id": "ERSAl4k9fMJH"
      },
      "source": [
        "#turn the optimization output into the action space\n",
        "a_vanilla_indepent = opt.x\n",
        "a_vanilla_indepent[a_vanilla_indepent>0.5]=1\n",
        "a_vanilla_indepent[a_vanilla_indepent<=0.5]=0"
      ],
      "execution_count": null,
      "outputs": []
    },
    {
      "cell_type": "code",
      "metadata": {
        "id": "cfjzCir9IrEX"
      },
      "source": [
        "#generate gif\n",
        "def saveanimation(frames,address=\"./movie.gif\"):\n",
        "  \"\"\" \n",
        "  This method ,given the frames of images make the gif and save it in the folder\n",
        "  \n",
        "  params:\n",
        "      frames:method takes in the array or np.array of images\n",
        "      address:(optional)given the address/location saves the gif on that location\n",
        "              otherwise save it to default address './movie.gif'\n",
        "  \n",
        "  return :\n",
        "      none\n",
        "  \"\"\"\n",
        "  imageio.mimsave(address, frames)"
      ],
      "execution_count": null,
      "outputs": []
    },
    {
      "cell_type": "code",
      "metadata": {
        "id": "UYafpVQ0KURa",
        "colab": {
          "base_uri": "https://localhost:8080/",
          "height": 384
        },
        "outputId": "ccb13c42-b07d-445c-9b4f-20c1da439834"
      },
      "source": [
        "#see the optimal result,generate gif\n",
        "env = gym.make('CartPole-v0')\n",
        "env.reset()\n",
        "frames = []\n",
        "\n",
        "for a in a_vanilla_indepent:\n",
        "    a = int(a)\n",
        "    frames.append(env.render(mode = 'rgb_array'))\n",
        "    obs,reward,done,info = env.step(a) # take a random action\n",
        "    if done:\n",
        "        break\n",
        "env.close()\n",
        "## save the images as array\n",
        "saveanimation(frames,address=\"./vani_ind.gif\")"
      ],
      "execution_count": null,
      "outputs": [
        {
          "output_type": "error",
          "ename": "NameError",
          "evalue": "ignored",
          "traceback": [
            "\u001b[0;31m---------------------------------------------------------------------------\u001b[0m",
            "\u001b[0;31mNameError\u001b[0m                                 Traceback (most recent call last)",
            "\u001b[0;32m<ipython-input-17-477045ce2514>\u001b[0m in \u001b[0;36m<module>\u001b[0;34m()\u001b[0m\n\u001b[1;32m      6\u001b[0m \u001b[0;32mfor\u001b[0m \u001b[0ma\u001b[0m \u001b[0;32min\u001b[0m \u001b[0ma_vanilla_indepent\u001b[0m\u001b[0;34m:\u001b[0m\u001b[0;34m\u001b[0m\u001b[0;34m\u001b[0m\u001b[0m\n\u001b[1;32m      7\u001b[0m     \u001b[0ma\u001b[0m \u001b[0;34m=\u001b[0m \u001b[0mint\u001b[0m\u001b[0;34m(\u001b[0m\u001b[0ma\u001b[0m\u001b[0;34m)\u001b[0m\u001b[0;34m\u001b[0m\u001b[0;34m\u001b[0m\u001b[0m\n\u001b[0;32m----> 8\u001b[0;31m     \u001b[0mframes\u001b[0m\u001b[0;34m.\u001b[0m\u001b[0mappend\u001b[0m\u001b[0;34m(\u001b[0m\u001b[0menv\u001b[0m\u001b[0;34m.\u001b[0m\u001b[0mrender\u001b[0m\u001b[0;34m(\u001b[0m\u001b[0mmode\u001b[0m \u001b[0;34m=\u001b[0m \u001b[0;34m'rgb_array'\u001b[0m\u001b[0;34m)\u001b[0m\u001b[0;34m)\u001b[0m\u001b[0;34m\u001b[0m\u001b[0;34m\u001b[0m\u001b[0m\n\u001b[0m\u001b[1;32m      9\u001b[0m     \u001b[0mobs\u001b[0m\u001b[0;34m,\u001b[0m\u001b[0mreward\u001b[0m\u001b[0;34m,\u001b[0m\u001b[0mdone\u001b[0m\u001b[0;34m,\u001b[0m\u001b[0minfo\u001b[0m \u001b[0;34m=\u001b[0m \u001b[0menv\u001b[0m\u001b[0;34m.\u001b[0m\u001b[0mstep\u001b[0m\u001b[0;34m(\u001b[0m\u001b[0ma\u001b[0m\u001b[0;34m)\u001b[0m \u001b[0;31m# take a random action\u001b[0m\u001b[0;34m\u001b[0m\u001b[0;34m\u001b[0m\u001b[0m\n\u001b[1;32m     10\u001b[0m     \u001b[0;32mif\u001b[0m \u001b[0mdone\u001b[0m\u001b[0;34m:\u001b[0m\u001b[0;34m\u001b[0m\u001b[0;34m\u001b[0m\u001b[0m\n",
            "\u001b[0;32m/usr/local/lib/python3.7/dist-packages/gym/core.py\u001b[0m in \u001b[0;36mrender\u001b[0;34m(self, mode, **kwargs)\u001b[0m\n\u001b[1;32m    238\u001b[0m \u001b[0;34m\u001b[0m\u001b[0m\n\u001b[1;32m    239\u001b[0m     \u001b[0;32mdef\u001b[0m \u001b[0mrender\u001b[0m\u001b[0;34m(\u001b[0m\u001b[0mself\u001b[0m\u001b[0;34m,\u001b[0m \u001b[0mmode\u001b[0m\u001b[0;34m=\u001b[0m\u001b[0;34m'human'\u001b[0m\u001b[0;34m,\u001b[0m \u001b[0;34m**\u001b[0m\u001b[0mkwargs\u001b[0m\u001b[0;34m)\u001b[0m\u001b[0;34m:\u001b[0m\u001b[0;34m\u001b[0m\u001b[0;34m\u001b[0m\u001b[0m\n\u001b[0;32m--> 240\u001b[0;31m         \u001b[0;32mreturn\u001b[0m \u001b[0mself\u001b[0m\u001b[0;34m.\u001b[0m\u001b[0menv\u001b[0m\u001b[0;34m.\u001b[0m\u001b[0mrender\u001b[0m\u001b[0;34m(\u001b[0m\u001b[0mmode\u001b[0m\u001b[0;34m,\u001b[0m \u001b[0;34m**\u001b[0m\u001b[0mkwargs\u001b[0m\u001b[0;34m)\u001b[0m\u001b[0;34m\u001b[0m\u001b[0;34m\u001b[0m\u001b[0m\n\u001b[0m\u001b[1;32m    241\u001b[0m \u001b[0;34m\u001b[0m\u001b[0m\n\u001b[1;32m    242\u001b[0m     \u001b[0;32mdef\u001b[0m \u001b[0mclose\u001b[0m\u001b[0;34m(\u001b[0m\u001b[0mself\u001b[0m\u001b[0;34m)\u001b[0m\u001b[0;34m:\u001b[0m\u001b[0;34m\u001b[0m\u001b[0;34m\u001b[0m\u001b[0m\n",
            "\u001b[0;32m/usr/local/lib/python3.7/dist-packages/gym/envs/classic_control/cartpole.py\u001b[0m in \u001b[0;36mrender\u001b[0;34m(self, mode)\u001b[0m\n\u001b[1;32m    172\u001b[0m \u001b[0;34m\u001b[0m\u001b[0m\n\u001b[1;32m    173\u001b[0m         \u001b[0;32mif\u001b[0m \u001b[0mself\u001b[0m\u001b[0;34m.\u001b[0m\u001b[0mviewer\u001b[0m \u001b[0;32mis\u001b[0m \u001b[0;32mNone\u001b[0m\u001b[0;34m:\u001b[0m\u001b[0;34m\u001b[0m\u001b[0;34m\u001b[0m\u001b[0m\n\u001b[0;32m--> 174\u001b[0;31m             \u001b[0;32mfrom\u001b[0m \u001b[0mgym\u001b[0m\u001b[0;34m.\u001b[0m\u001b[0menvs\u001b[0m\u001b[0;34m.\u001b[0m\u001b[0mclassic_control\u001b[0m \u001b[0;32mimport\u001b[0m \u001b[0mrendering\u001b[0m\u001b[0;34m\u001b[0m\u001b[0;34m\u001b[0m\u001b[0m\n\u001b[0m\u001b[1;32m    175\u001b[0m             \u001b[0mself\u001b[0m\u001b[0;34m.\u001b[0m\u001b[0mviewer\u001b[0m \u001b[0;34m=\u001b[0m \u001b[0mrendering\u001b[0m\u001b[0;34m.\u001b[0m\u001b[0mViewer\u001b[0m\u001b[0;34m(\u001b[0m\u001b[0mscreen_width\u001b[0m\u001b[0;34m,\u001b[0m \u001b[0mscreen_height\u001b[0m\u001b[0;34m)\u001b[0m\u001b[0;34m\u001b[0m\u001b[0;34m\u001b[0m\u001b[0m\n\u001b[1;32m    176\u001b[0m             \u001b[0ml\u001b[0m\u001b[0;34m,\u001b[0m \u001b[0mr\u001b[0m\u001b[0;34m,\u001b[0m \u001b[0mt\u001b[0m\u001b[0;34m,\u001b[0m \u001b[0mb\u001b[0m \u001b[0;34m=\u001b[0m \u001b[0;34m-\u001b[0m\u001b[0mcartwidth\u001b[0m \u001b[0;34m/\u001b[0m \u001b[0;36m2\u001b[0m\u001b[0;34m,\u001b[0m \u001b[0mcartwidth\u001b[0m \u001b[0;34m/\u001b[0m \u001b[0;36m2\u001b[0m\u001b[0;34m,\u001b[0m \u001b[0mcartheight\u001b[0m \u001b[0;34m/\u001b[0m \u001b[0;36m2\u001b[0m\u001b[0;34m,\u001b[0m \u001b[0;34m-\u001b[0m\u001b[0mcartheight\u001b[0m \u001b[0;34m/\u001b[0m \u001b[0;36m2\u001b[0m\u001b[0;34m\u001b[0m\u001b[0;34m\u001b[0m\u001b[0m\n",
            "\u001b[0;32m/usr/local/lib/python3.7/dist-packages/gym/envs/classic_control/rendering.py\u001b[0m in \u001b[0;36m<module>\u001b[0;34m()\u001b[0m\n\u001b[1;32m     23\u001b[0m \u001b[0;34m\u001b[0m\u001b[0m\n\u001b[1;32m     24\u001b[0m \u001b[0;32mtry\u001b[0m\u001b[0;34m:\u001b[0m\u001b[0;34m\u001b[0m\u001b[0;34m\u001b[0m\u001b[0m\n\u001b[0;32m---> 25\u001b[0;31m     \u001b[0;32mfrom\u001b[0m \u001b[0mpyglet\u001b[0m\u001b[0;34m.\u001b[0m\u001b[0mgl\u001b[0m \u001b[0;32mimport\u001b[0m \u001b[0;34m*\u001b[0m\u001b[0;34m\u001b[0m\u001b[0;34m\u001b[0m\u001b[0m\n\u001b[0m\u001b[1;32m     26\u001b[0m \u001b[0;32mexcept\u001b[0m \u001b[0mImportError\u001b[0m \u001b[0;32mas\u001b[0m \u001b[0me\u001b[0m\u001b[0;34m:\u001b[0m\u001b[0;34m\u001b[0m\u001b[0;34m\u001b[0m\u001b[0m\n\u001b[1;32m     27\u001b[0m     raise ImportError('''\n",
            "\u001b[0;32m/usr/local/lib/python3.7/dist-packages/pyglet/gl/__init__.py\u001b[0m in \u001b[0;36m<module>\u001b[0;34m()\u001b[0m\n\u001b[1;32m    233\u001b[0m \u001b[0;32melif\u001b[0m \u001b[0mcompat_platform\u001b[0m \u001b[0;34m==\u001b[0m \u001b[0;34m'darwin'\u001b[0m\u001b[0;34m:\u001b[0m\u001b[0;34m\u001b[0m\u001b[0;34m\u001b[0m\u001b[0m\n\u001b[1;32m    234\u001b[0m     \u001b[0;32mfrom\u001b[0m \u001b[0;34m.\u001b[0m\u001b[0mcocoa\u001b[0m \u001b[0;32mimport\u001b[0m \u001b[0mCocoaConfig\u001b[0m \u001b[0;32mas\u001b[0m \u001b[0mConfig\u001b[0m\u001b[0;34m\u001b[0m\u001b[0;34m\u001b[0m\u001b[0m\n\u001b[0;32m--> 235\u001b[0;31m \u001b[0;32mdel\u001b[0m \u001b[0mbase\u001b[0m  \u001b[0;31m# noqa: F821\u001b[0m\u001b[0;34m\u001b[0m\u001b[0;34m\u001b[0m\u001b[0m\n\u001b[0m\u001b[1;32m    236\u001b[0m \u001b[0;34m\u001b[0m\u001b[0m\n\u001b[1;32m    237\u001b[0m \u001b[0;34m\u001b[0m\u001b[0m\n",
            "\u001b[0;31mNameError\u001b[0m: name 'base' is not defined"
          ]
        }
      ]
    }
  ]
}