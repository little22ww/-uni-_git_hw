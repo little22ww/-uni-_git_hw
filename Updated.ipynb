{
  "nbformat": 4,
  "nbformat_minor": 0,
  "metadata": {
    "colab": {
      "name": "Untitled",
      "provenance": [],
      "collapsed_sections": [],
      "include_colab_link": true
    },
    "kernelspec": {
      "name": "python3",
      "display_name": "Python 3"
    },
    "language_info": {
      "name": "python"
    }
  },
  "cells": [
    {
      "cell_type": "markdown",
      "metadata": {
        "id": "view-in-github",
        "colab_type": "text"
      },
      "source": [
        "<a href=\"https://colab.research.google.com/github/little22ww/-uni-_git_hw/blob/main/Updated.ipynb\" target=\"_parent\"><img src=\"https://colab.research.google.com/assets/colab-badge.svg\" alt=\"Open In Colab\"/></a>"
      ]
    },
    {
      "cell_type": "code",
      "metadata": {
        "colab": {
          "base_uri": "https://localhost:8080/"
        },
        "id": "Y9aY3EUEMSwc",
        "outputId": "d1a5ccd8-058f-4092-bae2-f129ebbd3e29"
      },
      "source": [
        "\n",
        "%%bash\n",
        "\n",
        "# install required system dependencies\n",
        "apt-get install -y xvfb x11-utils\n",
        "\n",
        "# install required python dependencies (might need to install additional gym extras depending)\n",
        "pip install gym[box2d]==0.17.* pyvirtualdisplay==0.2.* PyOpenGL==3.1.* PyOpenGL-accelerate==3.1.*"
      ],
      "execution_count": null,
      "outputs": [
        {
          "output_type": "stream",
          "name": "stdout",
          "text": [
            "Reading package lists...\n",
            "Building dependency tree...\n",
            "Reading state information...\n",
            "The following additional packages will be installed:\n",
            "  libxxf86dga1\n",
            "Suggested packages:\n",
            "  mesa-utils\n",
            "The following NEW packages will be installed:\n",
            "  libxxf86dga1 x11-utils xvfb\n",
            "0 upgraded, 3 newly installed, 0 to remove and 37 not upgraded.\n",
            "Need to get 994 kB of archives.\n",
            "After this operation, 2,981 kB of additional disk space will be used.\n",
            "Get:1 http://archive.ubuntu.com/ubuntu bionic/main amd64 libxxf86dga1 amd64 2:1.1.4-1 [13.7 kB]\n",
            "Get:2 http://archive.ubuntu.com/ubuntu bionic/main amd64 x11-utils amd64 7.7+3build1 [196 kB]\n",
            "Get:3 http://archive.ubuntu.com/ubuntu bionic-updates/universe amd64 xvfb amd64 2:1.19.6-1ubuntu4.9 [784 kB]\n",
            "Fetched 994 kB in 1s (1,282 kB/s)\n",
            "Selecting previously unselected package libxxf86dga1:amd64.\r\n",
            "(Reading database ... \r(Reading database ... 5%\r(Reading database ... 10%\r(Reading database ... 15%\r(Reading database ... 20%\r(Reading database ... 25%\r(Reading database ... 30%\r(Reading database ... 35%\r(Reading database ... 40%\r(Reading database ... 45%\r(Reading database ... 50%\r(Reading database ... 55%\r(Reading database ... 60%\r(Reading database ... 65%\r(Reading database ... 70%\r(Reading database ... 75%\r(Reading database ... 80%\r(Reading database ... 85%\r(Reading database ... 90%\r(Reading database ... 95%\r(Reading database ... 100%\r(Reading database ... 155222 files and directories currently installed.)\r\n",
            "Preparing to unpack .../libxxf86dga1_2%3a1.1.4-1_amd64.deb ...\r\n",
            "Unpacking libxxf86dga1:amd64 (2:1.1.4-1) ...\r\n",
            "Selecting previously unselected package x11-utils.\r\n",
            "Preparing to unpack .../x11-utils_7.7+3build1_amd64.deb ...\r\n",
            "Unpacking x11-utils (7.7+3build1) ...\r\n",
            "Selecting previously unselected package xvfb.\r\n",
            "Preparing to unpack .../xvfb_2%3a1.19.6-1ubuntu4.9_amd64.deb ...\r\n",
            "Unpacking xvfb (2:1.19.6-1ubuntu4.9) ...\r\n",
            "Setting up xvfb (2:1.19.6-1ubuntu4.9) ...\r\n",
            "Setting up libxxf86dga1:amd64 (2:1.1.4-1) ...\r\n",
            "Setting up x11-utils (7.7+3build1) ...\r\n",
            "Processing triggers for man-db (2.8.3-2ubuntu0.1) ...\r\n",
            "Processing triggers for libc-bin (2.27-3ubuntu1.3) ...\r\n",
            "/sbin/ldconfig.real: /usr/local/lib/python3.7/dist-packages/ideep4py/lib/libmkldnn.so.0 is not a symbolic link\r\n",
            "\r\n",
            "Requirement already satisfied: gym[box2d]==0.17.* in /usr/local/lib/python3.7/dist-packages (0.17.3)\n",
            "Collecting pyvirtualdisplay==0.2.*\n",
            "  Downloading PyVirtualDisplay-0.2.5-py2.py3-none-any.whl (13 kB)\n",
            "Requirement already satisfied: PyOpenGL==3.1.* in /usr/local/lib/python3.7/dist-packages (3.1.5)\n",
            "Collecting PyOpenGL-accelerate==3.1.*\n",
            "  Downloading PyOpenGL-accelerate-3.1.5.tar.gz (538 kB)\n",
            "Collecting EasyProcess\n",
            "  Downloading EasyProcess-0.3-py2.py3-none-any.whl (7.9 kB)\n",
            "Requirement already satisfied: scipy in /usr/local/lib/python3.7/dist-packages (from gym[box2d]==0.17.*) (1.4.1)\n",
            "Requirement already satisfied: cloudpickle<1.7.0,>=1.2.0 in /usr/local/lib/python3.7/dist-packages (from gym[box2d]==0.17.*) (1.3.0)\n",
            "Requirement already satisfied: numpy>=1.10.4 in /usr/local/lib/python3.7/dist-packages (from gym[box2d]==0.17.*) (1.19.5)\n",
            "Requirement already satisfied: pyglet<=1.5.0,>=1.4.0 in /usr/local/lib/python3.7/dist-packages (from gym[box2d]==0.17.*) (1.5.0)\n",
            "Collecting box2d-py~=2.3.5\n",
            "  Downloading box2d_py-2.3.8-cp37-cp37m-manylinux1_x86_64.whl (448 kB)\n",
            "Requirement already satisfied: future in /usr/local/lib/python3.7/dist-packages (from pyglet<=1.5.0,>=1.4.0->gym[box2d]==0.17.*) (0.16.0)\n",
            "Building wheels for collected packages: PyOpenGL-accelerate\n",
            "  Building wheel for PyOpenGL-accelerate (setup.py): started\n",
            "  Building wheel for PyOpenGL-accelerate (setup.py): finished with status 'done'\n",
            "  Created wheel for PyOpenGL-accelerate: filename=PyOpenGL_accelerate-3.1.5-cp37-cp37m-linux_x86_64.whl size=1599521 sha256=05da4ff43feff086bbacbc937dd1c3c6d3b50de34c5cec086e3beb936838ca45\n",
            "  Stored in directory: /root/.cache/pip/wheels/1c/f5/6f/169afb3f2d476c5e807f8515b3c9bc9b819c3962316aa804eb\n",
            "Successfully built PyOpenGL-accelerate\n",
            "Installing collected packages: EasyProcess, box2d-py, pyvirtualdisplay, PyOpenGL-accelerate\n",
            "Successfully installed EasyProcess-0.3 PyOpenGL-accelerate-3.1.5 box2d-py-2.3.8 pyvirtualdisplay-0.2.5\n"
          ]
        }
      ]
    },
    {
      "cell_type": "code",
      "metadata": {
        "colab": {
          "base_uri": "https://localhost:8080/"
        },
        "id": "iRNPuVdcJqRe",
        "outputId": "8e6e004f-e2a0-4e31-a74a-27054f3cd65e"
      },
      "source": [
        "pip install nevergrad"
      ],
      "execution_count": null,
      "outputs": [
        {
          "output_type": "stream",
          "name": "stdout",
          "text": [
            "Collecting nevergrad\n",
            "  Downloading nevergrad-0.4.3.post9-py3-none-any.whl (411 kB)\n",
            "\u001b[K     |████████████████████████████████| 411 kB 5.1 MB/s \n",
            "\u001b[?25hRequirement already satisfied: numpy>=1.15.0 in /usr/local/lib/python3.7/dist-packages (from nevergrad) (1.19.5)\n",
            "Requirement already satisfied: typing-extensions>=3.6.6 in /usr/local/lib/python3.7/dist-packages (from nevergrad) (3.10.0.2)\n",
            "Collecting cma>=2.6.0\n",
            "  Downloading cma-3.1.0-py2.py3-none-any.whl (269 kB)\n",
            "\u001b[K     |████████████████████████████████| 269 kB 52.7 MB/s \n",
            "\u001b[?25hCollecting bayesian-optimization>=1.2.0\n",
            "  Downloading bayesian-optimization-1.2.0.tar.gz (14 kB)\n",
            "Requirement already satisfied: scipy>=0.14.0 in /usr/local/lib/python3.7/dist-packages (from bayesian-optimization>=1.2.0->nevergrad) (1.4.1)\n",
            "Requirement already satisfied: scikit-learn>=0.18.0 in /usr/local/lib/python3.7/dist-packages (from bayesian-optimization>=1.2.0->nevergrad) (1.0.1)\n",
            "Requirement already satisfied: joblib>=0.11 in /usr/local/lib/python3.7/dist-packages (from scikit-learn>=0.18.0->bayesian-optimization>=1.2.0->nevergrad) (1.1.0)\n",
            "Requirement already satisfied: threadpoolctl>=2.0.0 in /usr/local/lib/python3.7/dist-packages (from scikit-learn>=0.18.0->bayesian-optimization>=1.2.0->nevergrad) (3.0.0)\n",
            "Building wheels for collected packages: bayesian-optimization\n",
            "  Building wheel for bayesian-optimization (setup.py) ... \u001b[?25l\u001b[?25hdone\n",
            "  Created wheel for bayesian-optimization: filename=bayesian_optimization-1.2.0-py3-none-any.whl size=11685 sha256=982ebfc35bd70251fea5a070c4a83e278da09c371f2120976089e4bc0778f2fb\n",
            "  Stored in directory: /root/.cache/pip/wheels/fd/9b/71/f127d694e02eb40bcf18c7ae9613b88a6be4470f57a8528c5b\n",
            "Successfully built bayesian-optimization\n",
            "Installing collected packages: cma, bayesian-optimization, nevergrad\n",
            "Successfully installed bayesian-optimization-1.2.0 cma-3.1.0 nevergrad-0.4.3.post9\n"
          ]
        }
      ]
    },
    {
      "cell_type": "code",
      "metadata": {
        "id": "0FVyf9u5M212"
      },
      "source": [
        "import pyvirtualdisplay\n",
        "\n",
        "\n",
        "_display = pyvirtualdisplay.Display(visible=False,  # use False with Xvfb\n",
        "                                    size=(1400, 900))\n",
        "_ = _display.start()"
      ],
      "execution_count": null,
      "outputs": []
    },
    {
      "cell_type": "code",
      "metadata": {
        "id": "-cajTmtdyzoh"
      },
      "source": [
        "import gym\n",
        "import numpy as np\n",
        "#import nevergrad as ng\n",
        "import cv2\n",
        "from scipy.optimize import minimize\n",
        "import scipy\n",
        "import scipy.stats as st\n",
        "from scipy.linalg import *\n",
        "\n",
        "import matplotlib.pyplot as plt \n",
        "from matplotlib import animation \n",
        "import imageio\n",
        "\n",
        "from sklearn.linear_model import Ridge\n",
        "from sklearn.linear_model import Lasso\n",
        "from sklearn.preprocessing import StandardScaler"
      ],
      "execution_count": null,
      "outputs": []
    },
    {
      "cell_type": "code",
      "source": [
        "#N = 200#sample size for gaussian smoothing\n",
        "#n = 200#dimension of the problem\n",
        "\n",
        "#256 is for haramard\n",
        "n = 256\n",
        "N = 256\n",
        "\n",
        "sigma = 0.1\n",
        "T = 200"
      ],
      "metadata": {
        "id": "ArwUiGbcRHWO"
      },
      "execution_count": null,
      "outputs": []
    },
    {
      "cell_type": "code",
      "source": [
        "#noise,n:dimension, N:sample size for gaussian smoothing\n",
        "def independent_gau(n,N,sigma = 0.1):\n",
        "    res = np.empty((N,n))\n",
        "    for i in range(N):\n",
        "        res[i,:] = np.random.multivariate_normal(mean = np.zeros(n), cov = sigma*np.eye(n)) \n",
        "    return res\n",
        "\n",
        "def orth_gau(n,N,sigma = 0.1):\n",
        "    res = independent_gau(n,N,sigma)\n",
        "    ort = orth(res.T)\n",
        "    leng = np.linalg.norm(ort, axis=1, keepdims=True)\n",
        "    return ort/leng\n",
        "\n",
        "#hadamard \n",
        "def hadamard(n,T):\n",
        "    H1 = np.array([[1/np.sqrt(2),1/np.sqrt(2)],[1/np.sqrt(2),-1/np.sqrt(2)]])\n",
        "    H = H1\n",
        "    l = 2\n",
        "    while 2*l<=n:\n",
        "        H = np.kron(H,H1)\n",
        "        l*=2\n",
        "    n_h = H.shape[0]\n",
        "    \n",
        "    M = np.eye(n_h)\n",
        "    for i in range(T):\n",
        "        vec=np.random.choice([-1,1],n_h)\n",
        "        D=np.diag(vec)\n",
        "        temp = np.dot(H,D)\n",
        "        M = np.dot(M,temp)\n",
        "    return M\n",
        "\n",
        "\n",
        "def givens(n,i,j,theta):\n",
        "    G = np.eye(n)\n",
        "    G[i][i] = G[j][j] = np.cos(theta)\n",
        "    G[i][j] = -np.sin(theta)\n",
        "    G[j][i] = np.sin(theta)\n",
        "    return G\n",
        "\n",
        "def random_givens(n,T):\n",
        "    K = np.eye(n)\n",
        "    for t in range(T):\n",
        "        i = np.random.randint(0,n)\n",
        "        j = np.random.randint(0,n)\n",
        "        theta = 2*np.pi*np.random.rand()\n",
        "        K = np.dot(K,givens(n,i,j,theta))\n",
        "    return K"
      ],
      "metadata": {
        "id": "jtUj0rIvRehe"
      },
      "execution_count": null,
      "outputs": []
    },
    {
      "cell_type": "code",
      "source": [
        ""
      ],
      "metadata": {
        "id": "ibUr7JAJx6Ha"
      },
      "execution_count": null,
      "outputs": []
    },
    {
      "cell_type": "code",
      "metadata": {
        "id": "GZLTr_WFy2mP"
      },
      "source": [
        "#original function\n",
        "def fun(a_list):\n",
        "    env = gym.make('CartPole-v0')\n",
        "    total_reward = 0.0\n",
        "    total_steps = 0\n",
        "    obs = env.reset()\n",
        "   \n",
        "    for a in a_list:\n",
        "        a = 0 if a<=0.5 else 1\n",
        "        obs, reward, done, _ = env.step(a) # take a random action\n",
        "        total_reward += reward\n",
        "        total_steps += 1\n",
        "        if done:\n",
        "            break\n",
        "    #print(\"Episode done in %d steps, total reward %.2f\" % (total_steps, total_reward))\n",
        "    return -total_reward\n",
        "\n",
        "#gaussian smoothing\n",
        "def gau_smo(a_list):\n",
        "    reward_list = np.zeros(N)\n",
        "    n = len(a_list)\n",
        "    \n",
        "    #generate noise with different methods\n",
        "    noise = independent_gau(n,N)\n",
        "    #noise = orth_gau(n,N)\n",
        "    \n",
        "    for i in range(N):\n",
        "        curr_noise = noise[i,:]\n",
        "        reward_list[i] = fun(a_list+curr_noise)\n",
        "    return reward_list.mean()"
      ],
      "execution_count": null,
      "outputs": []
    },
    {
      "cell_type": "code",
      "source": [
        "# monte carlo based gradient\n",
        "def vanilla(a_list):\n",
        "    n = len(a_list)\n",
        "    grad = np.zeros(n)\n",
        "    \n",
        "    #generate noise with different methods\n",
        "    #noise = independent_gau(n,N)\n",
        "    #noise = orth_gau(n,N)\n",
        "    noise = hadamard(n,T)\n",
        "    #noise = random_givens(n,T)\n",
        "    \n",
        "    for i in range(noise.shape[0]):\n",
        "        curr_noise = noise[i,:]       \n",
        "        theta = a_list+sigma*curr_noise\n",
        "        F = fun(theta)\n",
        "        grad+=F*curr_noise\n",
        "    grad = grad/(N*sigma)\n",
        "    return grad\n",
        "\n",
        "def antithetic(a_list):\n",
        "    n = len(a_list)\n",
        "    grad = np.zeros(n)\n",
        "    \n",
        "    #generate noise with different methods\n",
        "    #noise = independent_gau(n,N)\n",
        "    #noise = orth_gau(n,N)\n",
        "    noise = hadamard(n,T)\n",
        "    #noise = random_givens(n,T)\n",
        "    \n",
        "    for i in range(noise.shape[0]):\n",
        "        curr_noise = noise[i,:]             \n",
        "        theta1 = a_list+sigma*curr_noise\n",
        "        theta2 = a_list-sigma*curr_noise\n",
        "        F1,F2 = fun(theta1),fun(theta2)\n",
        "        grad+=(F1-F2)*curr_noise\n",
        "    grad = grad/(2*N*sigma)\n",
        "    return grad\n",
        "\n",
        "def FD(a_list):\n",
        "    n = len(a_list)\n",
        "    grad = np.zeros(n)\n",
        "    F = fun(a_list)\n",
        "    \n",
        "    #generate noise with different methods\n",
        "    #noise = independent_gau(n,N)\n",
        "    #noise = orth_gau(n,N)\n",
        "    noise = hadamard(n,T)\n",
        "    #noise = random_givens(n,T)\n",
        "    \n",
        "    for i in range(noise.shape[0]):\n",
        "        curr_noise = noise[i,:]              \n",
        "        theta = a_list+sigma*curr_noise\n",
        "        F1 = fun(theta)\n",
        "        grad+=(F1-F)*curr_noise\n",
        "    grad = grad/(N*sigma)\n",
        "    return grad"
      ],
      "metadata": {
        "id": "OK5dAYxsRRsS"
      },
      "execution_count": null,
      "outputs": []
    },
    {
      "cell_type": "code",
      "source": [
        "#regression based gradient\n",
        "def lasso_gra(a_list):\n",
        "    F = fun(a_list)\n",
        "    y = np.zeros(N)\n",
        "    #generate noise with different methods\n",
        "    noise = independent_gau(n,N)\n",
        "    #noise = orth_gau(n,N)\n",
        "    for i in range(N):\n",
        "        y[i] = fun(a_list+noise[i,:])-F\n",
        "    \n",
        "    SSmodel=StandardScaler()\n",
        "    SSmodel.fit(noise)\n",
        "    Train_x=SSmodel.transform(noise)\n",
        "    model = Lasso(fit_intercept = False)\n",
        "    model.fit(Train_x,y)\n",
        "    return model.coef_/np.std(noise,axis = 0)\n",
        "\n",
        "def ridge_gra(a_list):\n",
        "    F = fun(a_list)\n",
        "    y = np.zeros(N)\n",
        "    #generate noise with different methods\n",
        "    noise = independent_gau(n,N)\n",
        "    #noise = orth_gau(n,N)\n",
        "    for i in range(N):\n",
        "        y[i] = fun(a_list+noise[i,:])-F\n",
        "    \n",
        "    SSmodel=StandardScaler()\n",
        "    SSmodel.fit(noise)\n",
        "    Train_x=SSmodel.transform(noise)\n",
        "    model = Ridge(fit_intercept = False)\n",
        "    model.fit(Train_x,y)\n",
        "    return model.coef_/np.std(noise,axis = 0)\n",
        "\n",
        "def lp_gra(a_list):\n",
        "    F = fun(a_list)\n",
        "    y = np.zeros(N)\n",
        "    #generate noise with different methods\n",
        "    noise = independent_gau(n,N)\n",
        "    #noise = orth_gau(n,N)\n",
        "    for i in range(N):\n",
        "        y[i] = fun(a_list+noise[i,:])-F\n",
        "    \n",
        "    def lp_decoding(z):\n",
        "        res=np.abs(y - np.dot(noise[i,:],z))\n",
        "        return np.sum(res)\n",
        "    \n",
        "    curr_opt = scipy.optimize.minimize(lp_decoding,np.zeros(n),tol = 0.01)\n",
        "    return curr_opt.x"
      ],
      "metadata": {
        "id": "LOvVoWqjRXoX"
      },
      "execution_count": null,
      "outputs": []
    },
    {
      "cell_type": "code",
      "source": [
        "R = np.random.RandomState(seed = 10)\n",
        "initial = R.rand(n)\n",
        "initial_reward = fun(initial)\n",
        "print('initial reward',initial_reward)"
      ],
      "metadata": {
        "id": "ZhlYp54BTv32",
        "colab": {
          "base_uri": "https://localhost:8080/"
        },
        "outputId": "cce44ade-d0b2-46ed-fe7a-317d11b1a83e"
      },
      "execution_count": null,
      "outputs": [
        {
          "output_type": "stream",
          "name": "stdout",
          "text": [
            "initial reward -28.0\n"
          ]
        }
      ]
    },
    {
      "cell_type": "code",
      "metadata": {
        "colab": {
          "base_uri": "https://localhost:8080/"
        },
        "id": "sHvKPyvYfL2k",
        "outputId": "1fbd0048-1406-4ed9-ae03-8479752ac804"
      },
      "source": [
        "#optimization part, conjugate gradient method\n",
        "bound = [[0,1]]*n\n",
        "df = pd.DataFrame(columns = ['fun','nit','nfev','njev'])\n",
        "for i in range(200):\n",
        "  opt = scipy.optimize.minimize(fun,initial,bounds =bound,method = 'CG',jac = FD,tol = 0.01,options = {'disp' : True} )\n",
        "  df = df.append({'fun':-opt.fun,'nit':opt.nit,'nfev':opt.nfev,'njev':opt.njev},ignore_index = True)"
      ],
      "execution_count": null,
      "outputs": [
        {
          "output_type": "stream",
          "name": "stderr",
          "text": [
            "/usr/local/lib/python3.7/dist-packages/scipy/optimize/_minimize.py:522: RuntimeWarning: Method CG cannot handle constraints nor bounds.\n",
            "  RuntimeWarning)\n"
          ]
        },
        {
          "output_type": "stream",
          "name": "stdout",
          "text": [
            "Warning: Desired error not necessarily achieved due to precision loss.\n",
            "         Current function value: -64.000000\n",
            "         Iterations: 3\n",
            "         Function evaluations: 34\n",
            "         Gradient evaluations: 21\n"
          ]
        }
      ]
    },
    {
      "cell_type": "code",
      "metadata": {
        "id": "ERSAl4k9fMJH"
      },
      "source": [
        "#turn the optimization output into the action space\n",
        "a_vanilla_indepent = opt.x\n",
        "a_vanilla_indepent[a_vanilla_indepent>0.5]=1\n",
        "a_vanilla_indepent[a_vanilla_indepent<=0.5]=0"
      ],
      "execution_count": null,
      "outputs": []
    },
    {
      "cell_type": "code",
      "metadata": {
        "id": "cfjzCir9IrEX"
      },
      "source": [
        "#generate gif\n",
        "def saveanimation(frames,address=\"./movie.gif\"):\n",
        "  \"\"\" \n",
        "  This method ,given the frames of images make the gif and save it in the folder\n",
        "  \n",
        "  params:\n",
        "      frames:method takes in the array or np.array of images\n",
        "      address:(optional)given the address/location saves the gif on that location\n",
        "              otherwise save it to default address './movie.gif'\n",
        "  \n",
        "  return :\n",
        "      none\n",
        "  \"\"\"\n",
        "  imageio.mimsave(address, frames)"
      ],
      "execution_count": null,
      "outputs": []
    },
    {
      "cell_type": "code",
      "metadata": {
        "id": "UYafpVQ0KURa"
      },
      "source": [
        "#see the optimal result,generate gif\n",
        "env = gym.make('CartPole-v0')\n",
        "env.reset()\n",
        "frames = []\n",
        "\n",
        "for a in a_vanilla_indepent:\n",
        "    a = int(a)\n",
        "    frames.append(env.render(mode = 'rgb_array'))\n",
        "    obs,reward,done,info = env.step(a) # take a random action\n",
        "    if done:\n",
        "        break\n",
        "env.close()\n",
        "## save the images as array\n",
        "saveanimation(frames,address=\"./vani_ind.gif\")\n"
      ],
      "execution_count": null,
      "outputs": []
    }
  ]
}